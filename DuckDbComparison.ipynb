{
 "cells": [
  {
   "cell_type": "code",
   "execution_count": null,
   "metadata": {},
   "outputs": [
    {
     "data": {
      "text/html": [
       "<div><div></div><div></div><div><strong>Installed Packages</strong><ul><li><span>Parquet.Net, 5.0.2</span></li></ul></div></div>"
      ]
     },
     "metadata": {},
     "output_type": "display_data"
    }
   ],
   "source": [
    "#r \"nuget: Parquet.Net, 5.0.2\"\n",
    "\n",
    "using Parquet;\n",
    "using Parquet.Data;\n",
    "using Parquet.Schema;\n",
    "using System.Net.Http;\n",
    "using System.Threading.Tasks;\n",
    "using System.IO;\n",
    "using System.Collections.Generic;\n",
    "using System.Linq;\n",
    "using System.Reflection;\n",
    "\n",
    "string taxiUrl = \"https://blobs.duckdb.org/data/taxi-data-2019.parquet\";\n",
    "string zoneUrl = \"https://blobs.duckdb.org/data/zone-lookups.parquet\";\n",
    "var taxiFile = \"taxi-data-2019.parquet\";\n",
    "var zoneFile = \"zone-lookups.parquet\";\n"
   ]
  },
  {
   "cell_type": "code",
   "execution_count": null,
   "metadata": {},
   "outputs": [],
   "source": [
    "async Task SaveFileToDisk(string url, string fileName)\n",
    "{\n",
    "    using HttpClient client = new HttpClient();\n",
    "    using var stream = await client.GetStreamAsync(url);\n",
    "\n",
    "        // Save the stream to a file on disk\n",
    "        using var fileStream = new FileStream(fileName, FileMode.Create, FileAccess.Write, FileShare.None);\n",
    "        await stream.CopyToAsync(fileStream);\n",
    "\n",
    "}\n",
    "\n",
    "\n"
   ]
  },
  {
   "cell_type": "code",
   "execution_count": null,
   "metadata": {},
   "outputs": [
    {
     "data": {
      "text/plain": [
       "Downloaded taxi-data-2019.parquet in 29334ms"
      ]
     },
     "metadata": {},
     "output_type": "display_data"
    }
   ],
   "source": [
    "var sw = System.Diagnostics.Stopwatch.StartNew();\n",
    "await SaveFileToDisk(taxiUrl, taxiFile);\n",
    "$\"Downloaded {taxiFile} in {sw.ElapsedMilliseconds}ms\""
   ]
  },
  {
   "cell_type": "code",
   "execution_count": null,
   "metadata": {},
   "outputs": [
    {
     "data": {
      "text/plain": [
       "Downloaded zone-lookups.parquet in 350ms"
      ]
     },
     "metadata": {},
     "output_type": "display_data"
    }
   ],
   "source": [
    "var sw = System.Diagnostics.Stopwatch.StartNew();\n",
    "await SaveFileToDisk(zoneUrl, zoneFile);\n",
    "$\"Downloaded {zoneFile} in {sw.ElapsedMilliseconds}ms\""
   ]
  },
  {
   "cell_type": "code",
   "execution_count": null,
   "metadata": {},
   "outputs": [],
   "source": [
    "\n",
    "\n",
    "public async Task<IReadOnlyCollection<T>> LoadParquetDataAsync<T>(string fileName) where T : new()\n",
    "{\n",
    "    var properties = typeof(T).GetProperties().ToDictionary(x => x.Name, x => x.SetMethod);\n",
    "    using var fileStream = new FileStream(fileName, FileMode.Open, FileAccess.Read, FileShare.None);\n",
    "\n",
    "    var options = new ParquetOptions { TreatByteArrayAsString = true };\n",
    "    using var parquetReader = await ParquetReader.CreateAsync(fileStream, options);\n",
    "\n",
    "    var data = new List<T>();\n",
    "\n",
    "    for (int i = 0; i < parquetReader.RowGroupCount; i++)\n",
    "    {\n",
    "        using (ParquetRowGroupReader groupReader = parquetReader.OpenRowGroupReader(i))\n",
    "        {\n",
    "            var dataFields = parquetReader.Schema.GetDataFields();\n",
    "            var rowCount = (int)groupReader.RowCount;\n",
    "            var instances = Enumerable.Range(0, rowCount)\n",
    "            .Select(_ => new T())\n",
    "            .ToArray();\n",
    "            data.AddRange(instances);        \n",
    "\n",
    "            foreach (var field in dataFields)\n",
    "            {\n",
    "                if (properties.TryGetValue(field.Name, out var setter))\n",
    "                {\n",
    "                    var column = await groupReader.ReadColumnAsync(field);\n",
    "                    for(long rowIndex = 0; rowIndex < rowCount; rowIndex++)\n",
    "                    {\n",
    "                        var value = column.Data.GetValue(rowIndex);\n",
    "                        setter.Invoke(instances[rowIndex], new[] { value });\n",
    "                    }\n",
    "\n",
    "                }\n",
    "            }\n",
    "\n",
    "\n",
    "        }\n",
    "    }\n",
    "\n",
    "    return data;\n",
    "}"
   ]
  },
  {
   "cell_type": "code",
   "execution_count": null,
   "metadata": {},
   "outputs": [],
   "source": [
    "record TaxiTrip\n",
    "{\n",
    "    public string PickupBorough { get; set; }\n",
    "    public string DropoffBorough { get; set; }\n",
    "    public long pickup_location_id { get; set; }\n",
    "    public long dropoff_location_id { get; set; }\n",
    "}\n",
    "\n",
    "record Zone\n",
    "{\n",
    "    public long LocationID { get; set; }\n",
    "    public string Borough { get; set; }\n",
    "}"
   ]
  },
  {
   "cell_type": "code",
   "execution_count": null,
   "metadata": {},
   "outputs": [
    {
     "data": {
      "text/plain": [
       "Time to load file and instantiate: 00:01:41.5484720"
      ]
     },
     "metadata": {},
     "output_type": "display_data"
    }
   ],
   "source": [
    "\n",
    "\n",
    "\n",
    "var sw = System.Diagnostics.Stopwatch.StartNew();\n",
    "var trips = await LoadParquetDataAsync<TaxiTrip>(taxiFile);\n",
    "\n",
    "$\"Time to load file and instantiate: {sw.ToString()}\"\n"
   ]
  },
  {
   "cell_type": "code",
   "execution_count": null,
   "metadata": {},
   "outputs": [
    {
     "data": {
      "text/html": [
       "<table><thead><tr><th><i>index</i></th><th>value</th></tr></thead><tbody><tr><td>0</td><td><details class=\"dni-treeview\"><summary><span class=\"dni-code-hint\"><code>TaxiTrip { PickupBorough = , DropoffBorough = , pickup_location_id = 164, dropoff_location_id = 233 }</code></span></summary><div><table><thead><tr></tr></thead><tbody><tr><td>PickupBorough</td><td><div class=\"dni-plaintext\"><pre>&lt;null&gt;</pre></div></td></tr><tr><td>DropoffBorough</td><td><div class=\"dni-plaintext\"><pre>&lt;null&gt;</pre></div></td></tr><tr><td>pickup_location_id</td><td><div class=\"dni-plaintext\"><pre>164</pre></div></td></tr><tr><td>dropoff_location_id</td><td><div class=\"dni-plaintext\"><pre>233</pre></div></td></tr></tbody></table></div></details></td></tr><tr><td>1</td><td><details class=\"dni-treeview\"><summary><span class=\"dni-code-hint\"><code>TaxiTrip { PickupBorough = , DropoffBorough = , pickup_location_id = 234, dropoff_location_id = 231 }</code></span></summary><div><table><thead><tr></tr></thead><tbody><tr><td>PickupBorough</td><td><div class=\"dni-plaintext\"><pre>&lt;null&gt;</pre></div></td></tr><tr><td>DropoffBorough</td><td><div class=\"dni-plaintext\"><pre>&lt;null&gt;</pre></div></td></tr><tr><td>pickup_location_id</td><td><div class=\"dni-plaintext\"><pre>234</pre></div></td></tr><tr><td>dropoff_location_id</td><td><div class=\"dni-plaintext\"><pre>231</pre></div></td></tr></tbody></table></div></details></td></tr><tr><td>2</td><td><details class=\"dni-treeview\"><summary><span class=\"dni-code-hint\"><code>TaxiTrip { PickupBorough = , DropoffBorough = , pickup_location_id = 229, dropoff_location_id = 162 }</code></span></summary><div><table><thead><tr></tr></thead><tbody><tr><td>PickupBorough</td><td><div class=\"dni-plaintext\"><pre>&lt;null&gt;</pre></div></td></tr><tr><td>DropoffBorough</td><td><div class=\"dni-plaintext\"><pre>&lt;null&gt;</pre></div></td></tr><tr><td>pickup_location_id</td><td><div class=\"dni-plaintext\"><pre>229</pre></div></td></tr><tr><td>dropoff_location_id</td><td><div class=\"dni-plaintext\"><pre>162</pre></div></td></tr></tbody></table></div></details></td></tr><tr><td>3</td><td><details class=\"dni-treeview\"><summary><span class=\"dni-code-hint\"><code>TaxiTrip { PickupBorough = , DropoffBorough = , pickup_location_id = 234, dropoff_location_id = 249 }</code></span></summary><div><table><thead><tr></tr></thead><tbody><tr><td>PickupBorough</td><td><div class=\"dni-plaintext\"><pre>&lt;null&gt;</pre></div></td></tr><tr><td>DropoffBorough</td><td><div class=\"dni-plaintext\"><pre>&lt;null&gt;</pre></div></td></tr><tr><td>pickup_location_id</td><td><div class=\"dni-plaintext\"><pre>234</pre></div></td></tr><tr><td>dropoff_location_id</td><td><div class=\"dni-plaintext\"><pre>249</pre></div></td></tr></tbody></table></div></details></td></tr><tr><td>4</td><td><details class=\"dni-treeview\"><summary><span class=\"dni-code-hint\"><code>TaxiTrip { PickupBorough = , DropoffBorough = , pickup_location_id = 249, dropoff_location_id = 4 }</code></span></summary><div><table><thead><tr></tr></thead><tbody><tr><td>PickupBorough</td><td><div class=\"dni-plaintext\"><pre>&lt;null&gt;</pre></div></td></tr><tr><td>DropoffBorough</td><td><div class=\"dni-plaintext\"><pre>&lt;null&gt;</pre></div></td></tr><tr><td>pickup_location_id</td><td><div class=\"dni-plaintext\"><pre>249</pre></div></td></tr><tr><td>dropoff_location_id</td><td><div class=\"dni-plaintext\"><pre>4</pre></div></td></tr></tbody></table></div></details></td></tr><tr><td>5</td><td><details class=\"dni-treeview\"><summary><span class=\"dni-code-hint\"><code>TaxiTrip { PickupBorough = , DropoffBorough = , pickup_location_id = 42, dropoff_location_id = 141 }</code></span></summary><div><table><thead><tr></tr></thead><tbody><tr><td>PickupBorough</td><td><div class=\"dni-plaintext\"><pre>&lt;null&gt;</pre></div></td></tr><tr><td>DropoffBorough</td><td><div class=\"dni-plaintext\"><pre>&lt;null&gt;</pre></div></td></tr><tr><td>pickup_location_id</td><td><div class=\"dni-plaintext\"><pre>42</pre></div></td></tr><tr><td>dropoff_location_id</td><td><div class=\"dni-plaintext\"><pre>141</pre></div></td></tr></tbody></table></div></details></td></tr><tr><td>6</td><td><details class=\"dni-treeview\"><summary><span class=\"dni-code-hint\"><code>TaxiTrip { PickupBorough = , DropoffBorough = , pickup_location_id = 163, dropoff_location_id = 87 }</code></span></summary><div><table><thead><tr></tr></thead><tbody><tr><td>PickupBorough</td><td><div class=\"dni-plaintext\"><pre>&lt;null&gt;</pre></div></td></tr><tr><td>DropoffBorough</td><td><div class=\"dni-plaintext\"><pre>&lt;null&gt;</pre></div></td></tr><tr><td>pickup_location_id</td><td><div class=\"dni-plaintext\"><pre>163</pre></div></td></tr><tr><td>dropoff_location_id</td><td><div class=\"dni-plaintext\"><pre>87</pre></div></td></tr></tbody></table></div></details></td></tr><tr><td>7</td><td><details class=\"dni-treeview\"><summary><span class=\"dni-code-hint\"><code>TaxiTrip { PickupBorough = , DropoffBorough = , pickup_location_id = 132, dropoff_location_id = 62 }</code></span></summary><div><table><thead><tr></tr></thead><tbody><tr><td>PickupBorough</td><td><div class=\"dni-plaintext\"><pre>&lt;null&gt;</pre></div></td></tr><tr><td>DropoffBorough</td><td><div class=\"dni-plaintext\"><pre>&lt;null&gt;</pre></div></td></tr><tr><td>pickup_location_id</td><td><div class=\"dni-plaintext\"><pre>132</pre></div></td></tr><tr><td>dropoff_location_id</td><td><div class=\"dni-plaintext\"><pre>62</pre></div></td></tr></tbody></table></div></details></td></tr><tr><td>8</td><td><details class=\"dni-treeview\"><summary><span class=\"dni-code-hint\"><code>TaxiTrip { PickupBorough = , DropoffBorough = , pickup_location_id = 230, dropoff_location_id = 43 }</code></span></summary><div><table><thead><tr></tr></thead><tbody><tr><td>PickupBorough</td><td><div class=\"dni-plaintext\"><pre>&lt;null&gt;</pre></div></td></tr><tr><td>DropoffBorough</td><td><div class=\"dni-plaintext\"><pre>&lt;null&gt;</pre></div></td></tr><tr><td>pickup_location_id</td><td><div class=\"dni-plaintext\"><pre>230</pre></div></td></tr><tr><td>dropoff_location_id</td><td><div class=\"dni-plaintext\"><pre>43</pre></div></td></tr></tbody></table></div></details></td></tr><tr><td>9</td><td><details class=\"dni-treeview\"><summary><span class=\"dni-code-hint\"><code>TaxiTrip { PickupBorough = , DropoffBorough = , pickup_location_id = 142, dropoff_location_id = 237 }</code></span></summary><div><table><thead><tr></tr></thead><tbody><tr><td>PickupBorough</td><td><div class=\"dni-plaintext\"><pre>&lt;null&gt;</pre></div></td></tr><tr><td>DropoffBorough</td><td><div class=\"dni-plaintext\"><pre>&lt;null&gt;</pre></div></td></tr><tr><td>pickup_location_id</td><td><div class=\"dni-plaintext\"><pre>142</pre></div></td></tr><tr><td>dropoff_location_id</td><td><div class=\"dni-plaintext\"><pre>237</pre></div></td></tr></tbody></table></div></details></td></tr></tbody></table><style>\r\n",
       ".dni-code-hint {\r\n",
       "    font-style: italic;\r\n",
       "    overflow: hidden;\r\n",
       "    white-space: nowrap;\r\n",
       "}\r\n",
       ".dni-treeview {\r\n",
       "    white-space: nowrap;\r\n",
       "}\r\n",
       ".dni-treeview td {\r\n",
       "    vertical-align: top;\r\n",
       "    text-align: start;\r\n",
       "}\r\n",
       "details.dni-treeview {\r\n",
       "    padding-left: 1em;\r\n",
       "}\r\n",
       "table td {\r\n",
       "    text-align: start;\r\n",
       "}\r\n",
       "table tr { \r\n",
       "    vertical-align: top; \r\n",
       "    margin: 0em 0px;\r\n",
       "}\r\n",
       "table tr td pre \r\n",
       "{ \r\n",
       "    vertical-align: top !important; \r\n",
       "    margin: 0em 0px !important;\r\n",
       "} \r\n",
       "table th {\r\n",
       "    text-align: start;\r\n",
       "}\r\n",
       "</style>"
      ]
     },
     "metadata": {},
     "output_type": "display_data"
    }
   ],
   "source": [
    "trips.Take(10)"
   ]
  },
  {
   "cell_type": "code",
   "execution_count": null,
   "metadata": {},
   "outputs": [
    {
     "data": {
      "text/plain": [
       "Time to load file and instantiate: 00:00:00.0050833"
      ]
     },
     "metadata": {},
     "output_type": "display_data"
    }
   ],
   "source": [
    "\n",
    "\n",
    "\n",
    "var sw = System.Diagnostics.Stopwatch.StartNew();\n",
    "var zones = await LoadParquetDataAsync<Zone>(zoneFile);\n",
    "\n",
    "$\"Time to load file and instantiate: {sw.ToString()}\""
   ]
  },
  {
   "cell_type": "code",
   "execution_count": null,
   "metadata": {},
   "outputs": [
    {
     "data": {
      "text/html": [
       "<table><thead><tr><th><i>index</i></th><th>value</th></tr></thead><tbody><tr><td>0</td><td><details class=\"dni-treeview\"><summary><span class=\"dni-code-hint\"><code>Zone { LocationID = 1, Borough = EWR }</code></span></summary><div><table><thead><tr></tr></thead><tbody><tr><td>LocationID</td><td><div class=\"dni-plaintext\"><pre>1</pre></div></td></tr><tr><td>Borough</td><td><div class=\"dni-plaintext\"><pre>EWR</pre></div></td></tr></tbody></table></div></details></td></tr><tr><td>1</td><td><details class=\"dni-treeview\"><summary><span class=\"dni-code-hint\"><code>Zone { LocationID = 2, Borough = Queens }</code></span></summary><div><table><thead><tr></tr></thead><tbody><tr><td>LocationID</td><td><div class=\"dni-plaintext\"><pre>2</pre></div></td></tr><tr><td>Borough</td><td><div class=\"dni-plaintext\"><pre>Queens</pre></div></td></tr></tbody></table></div></details></td></tr><tr><td>2</td><td><details class=\"dni-treeview\"><summary><span class=\"dni-code-hint\"><code>Zone { LocationID = 3, Borough = Bronx }</code></span></summary><div><table><thead><tr></tr></thead><tbody><tr><td>LocationID</td><td><div class=\"dni-plaintext\"><pre>3</pre></div></td></tr><tr><td>Borough</td><td><div class=\"dni-plaintext\"><pre>Bronx</pre></div></td></tr></tbody></table></div></details></td></tr><tr><td>3</td><td><details class=\"dni-treeview\"><summary><span class=\"dni-code-hint\"><code>Zone { LocationID = 4, Borough = Manhattan }</code></span></summary><div><table><thead><tr></tr></thead><tbody><tr><td>LocationID</td><td><div class=\"dni-plaintext\"><pre>4</pre></div></td></tr><tr><td>Borough</td><td><div class=\"dni-plaintext\"><pre>Manhattan</pre></div></td></tr></tbody></table></div></details></td></tr><tr><td>4</td><td><details class=\"dni-treeview\"><summary><span class=\"dni-code-hint\"><code>Zone { LocationID = 5, Borough = Staten Island }</code></span></summary><div><table><thead><tr></tr></thead><tbody><tr><td>LocationID</td><td><div class=\"dni-plaintext\"><pre>5</pre></div></td></tr><tr><td>Borough</td><td><div class=\"dni-plaintext\"><pre>Staten Island</pre></div></td></tr></tbody></table></div></details></td></tr><tr><td>5</td><td><details class=\"dni-treeview\"><summary><span class=\"dni-code-hint\"><code>Zone { LocationID = 6, Borough = Staten Island }</code></span></summary><div><table><thead><tr></tr></thead><tbody><tr><td>LocationID</td><td><div class=\"dni-plaintext\"><pre>6</pre></div></td></tr><tr><td>Borough</td><td><div class=\"dni-plaintext\"><pre>Staten Island</pre></div></td></tr></tbody></table></div></details></td></tr><tr><td>6</td><td><details class=\"dni-treeview\"><summary><span class=\"dni-code-hint\"><code>Zone { LocationID = 7, Borough = Queens }</code></span></summary><div><table><thead><tr></tr></thead><tbody><tr><td>LocationID</td><td><div class=\"dni-plaintext\"><pre>7</pre></div></td></tr><tr><td>Borough</td><td><div class=\"dni-plaintext\"><pre>Queens</pre></div></td></tr></tbody></table></div></details></td></tr><tr><td>7</td><td><details class=\"dni-treeview\"><summary><span class=\"dni-code-hint\"><code>Zone { LocationID = 8, Borough = Queens }</code></span></summary><div><table><thead><tr></tr></thead><tbody><tr><td>LocationID</td><td><div class=\"dni-plaintext\"><pre>8</pre></div></td></tr><tr><td>Borough</td><td><div class=\"dni-plaintext\"><pre>Queens</pre></div></td></tr></tbody></table></div></details></td></tr><tr><td>8</td><td><details class=\"dni-treeview\"><summary><span class=\"dni-code-hint\"><code>Zone { LocationID = 9, Borough = Queens }</code></span></summary><div><table><thead><tr></tr></thead><tbody><tr><td>LocationID</td><td><div class=\"dni-plaintext\"><pre>9</pre></div></td></tr><tr><td>Borough</td><td><div class=\"dni-plaintext\"><pre>Queens</pre></div></td></tr></tbody></table></div></details></td></tr><tr><td>9</td><td><details class=\"dni-treeview\"><summary><span class=\"dni-code-hint\"><code>Zone { LocationID = 10, Borough = Queens }</code></span></summary><div><table><thead><tr></tr></thead><tbody><tr><td>LocationID</td><td><div class=\"dni-plaintext\"><pre>10</pre></div></td></tr><tr><td>Borough</td><td><div class=\"dni-plaintext\"><pre>Queens</pre></div></td></tr></tbody></table></div></details></td></tr></tbody></table><style>\r\n",
       ".dni-code-hint {\r\n",
       "    font-style: italic;\r\n",
       "    overflow: hidden;\r\n",
       "    white-space: nowrap;\r\n",
       "}\r\n",
       ".dni-treeview {\r\n",
       "    white-space: nowrap;\r\n",
       "}\r\n",
       ".dni-treeview td {\r\n",
       "    vertical-align: top;\r\n",
       "    text-align: start;\r\n",
       "}\r\n",
       "details.dni-treeview {\r\n",
       "    padding-left: 1em;\r\n",
       "}\r\n",
       "table td {\r\n",
       "    text-align: start;\r\n",
       "}\r\n",
       "table tr { \r\n",
       "    vertical-align: top; \r\n",
       "    margin: 0em 0px;\r\n",
       "}\r\n",
       "table tr td pre \r\n",
       "{ \r\n",
       "    vertical-align: top !important; \r\n",
       "    margin: 0em 0px !important;\r\n",
       "} \r\n",
       "table th {\r\n",
       "    text-align: start;\r\n",
       "}\r\n",
       "</style>"
      ]
     },
     "metadata": {},
     "output_type": "display_data"
    }
   ],
   "source": [
    "zones.Take(10)"
   ]
  },
  {
   "cell_type": "markdown",
   "metadata": {},
   "source": [
    "First, unoptimized, idea for a query (nothing indexed, taking data as coming from data source)"
   ]
  },
  {
   "cell_type": "code",
   "execution_count": null,
   "metadata": {
    "dotnet_interactive": {
     "language": "csharp"
    },
    "polyglot_notebook": {
     "kernelName": "csharp"
    }
   },
   "outputs": [
    {
     "name": "stdout",
     "output_type": "stream",
     "text": [
      " Time to query: 00:00:20.1773442\r\n"
     ]
    },
    {
     "data": {
      "text/html": [
       "<table><thead><tr><th><i>index</i></th><th>value</th></tr></thead><tbody><tr><td>0</td><td><details class=\"dni-treeview\"><summary><span class=\"dni-code-hint\"><code>{ pickup_location_id = 237, dropoff_location_id = 236, Count = 536621 }</code></span></summary><div><table><thead><tr></tr></thead><tbody><tr><td>pickup_location_id</td><td><div class=\"dni-plaintext\"><pre>237</pre></div></td></tr><tr><td>dropoff_location_id</td><td><div class=\"dni-plaintext\"><pre>236</pre></div></td></tr><tr><td>Count</td><td><div class=\"dni-plaintext\"><pre>536621</pre></div></td></tr></tbody></table></div></details></td></tr><tr><td>1</td><td><details class=\"dni-treeview\"><summary><span class=\"dni-code-hint\"><code>{ pickup_location_id = 236, dropoff_location_id = 237, Count = 455954 }</code></span></summary><div><table><thead><tr></tr></thead><tbody><tr><td>pickup_location_id</td><td><div class=\"dni-plaintext\"><pre>236</pre></div></td></tr><tr><td>dropoff_location_id</td><td><div class=\"dni-plaintext\"><pre>237</pre></div></td></tr><tr><td>Count</td><td><div class=\"dni-plaintext\"><pre>455954</pre></div></td></tr></tbody></table></div></details></td></tr><tr><td>2</td><td><details class=\"dni-treeview\"><summary><span class=\"dni-code-hint\"><code>{ pickup_location_id = 236, dropoff_location_id = 236, Count = 451805 }</code></span></summary><div><table><thead><tr></tr></thead><tbody><tr><td>pickup_location_id</td><td><div class=\"dni-plaintext\"><pre>236</pre></div></td></tr><tr><td>dropoff_location_id</td><td><div class=\"dni-plaintext\"><pre>236</pre></div></td></tr><tr><td>Count</td><td><div class=\"dni-plaintext\"><pre>451805</pre></div></td></tr></tbody></table></div></details></td></tr><tr><td>3</td><td><details class=\"dni-treeview\"><summary><span class=\"dni-code-hint\"><code>{ pickup_location_id = 237, dropoff_location_id = 237, Count = 435054 }</code></span></summary><div><table><thead><tr></tr></thead><tbody><tr><td>pickup_location_id</td><td><div class=\"dni-plaintext\"><pre>237</pre></div></td></tr><tr><td>dropoff_location_id</td><td><div class=\"dni-plaintext\"><pre>237</pre></div></td></tr><tr><td>Count</td><td><div class=\"dni-plaintext\"><pre>435054</pre></div></td></tr></tbody></table></div></details></td></tr><tr><td>4</td><td><details class=\"dni-treeview\"><summary><span class=\"dni-code-hint\"><code>{ pickup_location_id = 239, dropoff_location_id = 238, Count = 236737 }</code></span></summary><div><table><thead><tr></tr></thead><tbody><tr><td>pickup_location_id</td><td><div class=\"dni-plaintext\"><pre>239</pre></div></td></tr><tr><td>dropoff_location_id</td><td><div class=\"dni-plaintext\"><pre>238</pre></div></td></tr><tr><td>Count</td><td><div class=\"dni-plaintext\"><pre>236737</pre></div></td></tr></tbody></table></div></details></td></tr></tbody></table><style>\r\n",
       ".dni-code-hint {\r\n",
       "    font-style: italic;\r\n",
       "    overflow: hidden;\r\n",
       "    white-space: nowrap;\r\n",
       "}\r\n",
       ".dni-treeview {\r\n",
       "    white-space: nowrap;\r\n",
       "}\r\n",
       ".dni-treeview td {\r\n",
       "    vertical-align: top;\r\n",
       "    text-align: start;\r\n",
       "}\r\n",
       "details.dni-treeview {\r\n",
       "    padding-left: 1em;\r\n",
       "}\r\n",
       "table td {\r\n",
       "    text-align: start;\r\n",
       "}\r\n",
       "table tr { \r\n",
       "    vertical-align: top; \r\n",
       "    margin: 0em 0px;\r\n",
       "}\r\n",
       "table tr td pre \r\n",
       "{ \r\n",
       "    vertical-align: top !important; \r\n",
       "    margin: 0em 0px !important;\r\n",
       "} \r\n",
       "table th {\r\n",
       "    text-align: start;\r\n",
       "}\r\n",
       "</style>"
      ]
     },
     "metadata": {},
     "output_type": "display_data"
    }
   ],
   "source": [
    "var sw = System.Diagnostics.Stopwatch.StartNew();\n",
    "var manhattanZones = zones.Where(x => x.Borough == \"Manhattan\").Select(zone => zone.LocationID).ToHashSet();\n",
    "var query = trips.Where(trip => manhattanZones.Contains(trip.pickup_location_id) || manhattanZones.Contains(trip.dropoff_location_id))\n",
    ".GroupBy(trip => (trip.pickup_location_id, trip.dropoff_location_id))\n",
    ".Select(group => new { group.Key.pickup_location_id, group.Key.dropoff_location_id, Count = group.Count() })\n",
    ".OrderByDescending(x => x.Count)\n",
    ".Take(5)\n",
    ".ToList();\n",
    "\n",
    "Console.WriteLine($\" Time to query: {sw.ToString()}\");\n",
    "query"
   ]
  },
  {
   "cell_type": "markdown",
   "metadata": {},
   "source": [
    "Idea about Report: Given the borrow, we have the most frequent trips. Normally, we would already read data like this, but in order to avoid reading twice, we just do it here as a followup step."
   ]
  },
  {
   "cell_type": "code",
   "execution_count": null,
   "metadata": {},
   "outputs": [
    {
     "name": "stdout",
     "output_type": "stream",
     "text": [
      " Time to build index: 00:00:23.9330322\r\n"
     ]
    }
   ],
   "source": [
    "var sw = System.Diagnostics.Stopwatch.StartNew();\n",
    "var numberOfTripsByPickupAndDropOff = trips\n",
    "                .GroupBy(trip => (trip.pickup_location_id, trip.dropoff_location_id))\n",
    "                .Select(group => new { group.Key.pickup_location_id, group.Key.dropoff_location_id, Count = group.Count() })\n",
    "                .OrderByDescending(x => x.Count)\n",
    "                .ToArray();\n",
    "Console.WriteLine($\" Time to build index: {sw.ToString()}\");"
   ]
  },
  {
   "cell_type": "code",
   "execution_count": null,
   "metadata": {},
   "outputs": [
    {
     "name": "stdout",
     "output_type": "stream",
     "text": [
      " Time to query: 00:00:00.0006824\r\n"
     ]
    },
    {
     "data": {
      "text/html": [
       "<table><thead><tr><th><i>index</i></th><th>value</th></tr></thead><tbody><tr><td>0</td><td><details class=\"dni-treeview\"><summary><span class=\"dni-code-hint\"><code>{ pickup_location_id = 237, dropoff_location_id = 236, Count = 536621 }</code></span></summary><div><table><thead><tr></tr></thead><tbody><tr><td>pickup_location_id</td><td><div class=\"dni-plaintext\"><pre>237</pre></div></td></tr><tr><td>dropoff_location_id</td><td><div class=\"dni-plaintext\"><pre>236</pre></div></td></tr><tr><td>Count</td><td><div class=\"dni-plaintext\"><pre>536621</pre></div></td></tr></tbody></table></div></details></td></tr><tr><td>1</td><td><details class=\"dni-treeview\"><summary><span class=\"dni-code-hint\"><code>{ pickup_location_id = 236, dropoff_location_id = 237, Count = 455954 }</code></span></summary><div><table><thead><tr></tr></thead><tbody><tr><td>pickup_location_id</td><td><div class=\"dni-plaintext\"><pre>236</pre></div></td></tr><tr><td>dropoff_location_id</td><td><div class=\"dni-plaintext\"><pre>237</pre></div></td></tr><tr><td>Count</td><td><div class=\"dni-plaintext\"><pre>455954</pre></div></td></tr></tbody></table></div></details></td></tr><tr><td>2</td><td><details class=\"dni-treeview\"><summary><span class=\"dni-code-hint\"><code>{ pickup_location_id = 236, dropoff_location_id = 236, Count = 451805 }</code></span></summary><div><table><thead><tr></tr></thead><tbody><tr><td>pickup_location_id</td><td><div class=\"dni-plaintext\"><pre>236</pre></div></td></tr><tr><td>dropoff_location_id</td><td><div class=\"dni-plaintext\"><pre>236</pre></div></td></tr><tr><td>Count</td><td><div class=\"dni-plaintext\"><pre>451805</pre></div></td></tr></tbody></table></div></details></td></tr><tr><td>3</td><td><details class=\"dni-treeview\"><summary><span class=\"dni-code-hint\"><code>{ pickup_location_id = 237, dropoff_location_id = 237, Count = 435054 }</code></span></summary><div><table><thead><tr></tr></thead><tbody><tr><td>pickup_location_id</td><td><div class=\"dni-plaintext\"><pre>237</pre></div></td></tr><tr><td>dropoff_location_id</td><td><div class=\"dni-plaintext\"><pre>237</pre></div></td></tr><tr><td>Count</td><td><div class=\"dni-plaintext\"><pre>435054</pre></div></td></tr></tbody></table></div></details></td></tr><tr><td>4</td><td><details class=\"dni-treeview\"><summary><span class=\"dni-code-hint\"><code>{ pickup_location_id = 239, dropoff_location_id = 238, Count = 236737 }</code></span></summary><div><table><thead><tr></tr></thead><tbody><tr><td>pickup_location_id</td><td><div class=\"dni-plaintext\"><pre>239</pre></div></td></tr><tr><td>dropoff_location_id</td><td><div class=\"dni-plaintext\"><pre>238</pre></div></td></tr><tr><td>Count</td><td><div class=\"dni-plaintext\"><pre>236737</pre></div></td></tr></tbody></table></div></details></td></tr></tbody></table><style>\r\n",
       ".dni-code-hint {\r\n",
       "    font-style: italic;\r\n",
       "    overflow: hidden;\r\n",
       "    white-space: nowrap;\r\n",
       "}\r\n",
       ".dni-treeview {\r\n",
       "    white-space: nowrap;\r\n",
       "}\r\n",
       ".dni-treeview td {\r\n",
       "    vertical-align: top;\r\n",
       "    text-align: start;\r\n",
       "}\r\n",
       "details.dni-treeview {\r\n",
       "    padding-left: 1em;\r\n",
       "}\r\n",
       "table td {\r\n",
       "    text-align: start;\r\n",
       "}\r\n",
       "table tr { \r\n",
       "    vertical-align: top; \r\n",
       "    margin: 0em 0px;\r\n",
       "}\r\n",
       "table tr td pre \r\n",
       "{ \r\n",
       "    vertical-align: top !important; \r\n",
       "    margin: 0em 0px !important;\r\n",
       "} \r\n",
       "table th {\r\n",
       "    text-align: start;\r\n",
       "}\r\n",
       "</style>"
      ]
     },
     "metadata": {},
     "output_type": "display_data"
    }
   ],
   "source": [
    "var sw = System.Diagnostics.Stopwatch.StartNew();\n",
    "\n",
    "var manhattanZones = zones.Where(x => x.Borough == \"Manhattan\").Select(zone => zone.LocationID).ToHashSet();\n",
    "var query = numberOfTripsByPickupAndDropOff.Where(trip => manhattanZones.Contains(trip.pickup_location_id) || manhattanZones.Contains(trip.dropoff_location_id))\n",
    ".Take(5)\n",
    ".ToList();\n",
    "\n",
    "Console.WriteLine($\" Time to query: {sw.ToString()}\");\n",
    "query"
   ]
  },
  {
   "cell_type": "code",
   "execution_count": null,
   "metadata": {},
   "outputs": [],
   "source": []
  }
 ],
 "metadata": {
  "kernelspec": {
   "display_name": ".NET (C#)",
   "language": "C#",
   "name": ".net-csharp"
  },
  "polyglot_notebook": {
   "kernelInfo": {
    "defaultKernelName": "csharp",
    "items": [
     {
      "aliases": [],
      "languageName": "csharp",
      "name": "csharp"
     }
    ]
   }
  }
 },
 "nbformat": 4,
 "nbformat_minor": 2
}
